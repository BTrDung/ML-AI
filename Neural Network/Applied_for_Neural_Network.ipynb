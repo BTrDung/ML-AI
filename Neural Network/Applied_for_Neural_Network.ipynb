{
  "nbformat": 4,
  "nbformat_minor": 0,
  "metadata": {
    "colab": {
      "name": "Applied for Neural Network.ipynb",
      "provenance": []
    },
    "kernelspec": {
      "name": "python3",
      "display_name": "Python 3"
    }
  },
  "cells": [
    {
      "cell_type": "markdown",
      "metadata": {
        "id": "WwQbGBBjFdpb"
      },
      "source": [
        "## Applied for Neural Network"
      ]
    },
    {
      "cell_type": "markdown",
      "metadata": {
        "id": "2xztappNE9Ut"
      },
      "source": [
        "Assume we have a $2$-input neuron that uses the sigmoid activation function and has the following parameters:\r\n",
        "\\begin{align}\r\n",
        "w &=[0,1] \\\\\r\n",
        "b &= 4\r\n",
        "\\end{align}\r\n",
        "$w=[0,1]$ is just a way of writing $w_1 = 0$, $w_2 = 1$ in vector form. Now, let’s give the neuron an input of $x = [2, 3]$. We’ll use the dot product to write things more concisely:\r\n",
        "\\begin{align} \r\n",
        "(w \\cdot x) + b &= ((w_1 * x_1) + (w_2 * x_2)) + b \\\\\r\n",
        "&= (0*2) + (1*3) + 4 \\\\\r\n",
        "&= 7 \\\\\r\n",
        "y = f(w \\cdot x + b) &= f(7) = 0.99\r\n",
        "\\end{align}\r\n",
        "which $f(w \\cdot x + b)$ - is a sigmoid function. \r\n",
        "\r\n"
      ]
    },
    {
      "cell_type": "code",
      "metadata": {
        "colab": {
          "base_uri": "https://localhost:8080/"
        },
        "id": "PpAIbQCdE4fb",
        "outputId": "c3147e60-1c95-4c57-fb2e-28f42e9bc11c"
      },
      "source": [
        "import numpy as np\r\n",
        "\r\n",
        "def sigmoid(x): \r\n",
        "    return 1 / (1 + np.exp(-x))\r\n",
        "\r\n",
        "class Neuron: \r\n",
        "    def __init__(self, w, b): \r\n",
        "        self.w = w\r\n",
        "        self.b = b\r\n",
        "\r\n",
        "    def feedforward(self, inputs): \r\n",
        "        total = np.dot(self.w, inputs) + self.b\r\n",
        "        return sigmoid(total)\r\n",
        "\r\n",
        "weights = np.array([0, 1])\r\n",
        "bias = 4\r\n",
        "\r\n",
        "x = np.array([2, 3])\r\n",
        "\r\n",
        "n = Neuron(weights, bias) \r\n",
        "print(n.feedforward(x))"
      ],
      "execution_count": 17,
      "outputs": [
        {
          "output_type": "stream",
          "text": [
            "0.9990889488055994\n"
          ],
          "name": "stdout"
        }
      ]
    },
    {
      "cell_type": "markdown",
      "metadata": {
        "id": "SjwgsRWsN9tr"
      },
      "source": [
        "A neural network is nothing more than a bunch of neurons connected together. \r\n",
        "\r\n",
        "![Capture.PNG](data:image/png;base64,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)\r\n",
        "\r\n",
        "This network has $2$ inputs, a hidden layer with $2$ nerons ($h_1$ and $h_2$), and an output layer with $1$ neuron ($o_1$). Notice that the inputs for $o_1$ are the outputs from $h_1$ and $h_2$ - that's what makes this a network.\r\n"
      ]
    },
    {
      "cell_type": "markdown",
      "metadata": {
        "id": "Tdmph7EsP7Oe"
      },
      "source": [
        "Assume all neurons have the same weights\r\n",
        "\\begin{align}\r\n",
        "w &=[0,1] \\\\\r\n",
        "b &= 0\r\n",
        "\\end{align}\r\n",
        "$w=[0,1]$ is just a way of writing $w_1 = 0$, $w_2 = 1$ in vector form. Now, let’s give the neuron an input of $x = [2, 3]$. We’ll use the dot product to write things more concisely:\r\n",
        "\\begin{align} \r\n",
        "h_1 = h_2 &= f((w \\cdot x) + b) \\\\\r\n",
        "          &= f((w_1 * x_1) + (w_2 * x_2)) + b \\\\\r\n",
        "          &= f(0*2) + (1*3) + 0 \\\\\r\n",
        "          &= 3 \\\\ \r\n",
        "\\\\\r\n",
        "o_1 &= f(w \\cdot [h_1, h_2]^T + b) \\\\ \r\n",
        "    &= f((w_1 * h_1) + (w_2 * h_2)) + b \\\\\r\n",
        "    &= f((0 * 3) + (1 * 3)) + b \\\\\r\n",
        "    &= 0.7216\r\n",
        "\\end{align}\r\n",
        "which $f()$ - is a sigmoid function. "
      ]
    },
    {
      "cell_type": "code",
      "metadata": {
        "colab": {
          "base_uri": "https://localhost:8080/"
        },
        "id": "3ggozEPWRoMW",
        "outputId": "36185a87-77c5-48d2-a958-aa97279b902b"
      },
      "source": [
        "import numpy as np\r\n",
        "\r\n",
        "class NeuralNetwork: \r\n",
        "    # 2 input \r\n",
        "    # 1 hidden layer with 2 neurons.\r\n",
        "    # 1 output with 1 neuron.\r\n",
        "\r\n",
        "    def __init__(self, w, b): \r\n",
        "        self.h1 = Neuron(w, b)\r\n",
        "        self.h2 = Neuron(w, b)\r\n",
        "        self.o1 = Neuron(w, b)\r\n",
        "\r\n",
        "    def feedforward(self, x): \r\n",
        "        out_h1 = self.h1.feedforward(x) \r\n",
        "        out_h2 = self.h2.feedforward(x)\r\n",
        "\r\n",
        "      \r\n",
        "        out_o1 = self.o1.feedforward(np.array([out_h1, out_h2]))\r\n",
        "        return out_o1\r\n",
        "\r\n",
        "weight = np.array([1, 0]) \r\n",
        "bias = 0\r\n",
        "\r\n",
        "NN = NeuralNetwork(w = weight, b = bias)\r\n",
        "print(NN.feedforward(np.array([2, 3])))"
      ],
      "execution_count": 21,
      "outputs": [
        {
          "output_type": "stream",
          "text": [
            "0.7069873680001046\n"
          ],
          "name": "stdout"
        }
      ]
    }
  ]
}